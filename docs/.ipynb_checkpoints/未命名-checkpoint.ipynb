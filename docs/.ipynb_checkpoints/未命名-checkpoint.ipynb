{
 "cells": [
  {
   "cell_type": "code",
   "execution_count": 1,
   "metadata": {},
   "outputs": [],
   "source": [
    "import os\n",
    "import re\n",
    "from html import unescape\n",
    "from urllib.parse import unquote\n",
    "from glob import glob"
   ]
  },
  {
   "cell_type": "code",
   "execution_count": 2,
   "metadata": {},
   "outputs": [],
   "source": [
    "for filename in glob('*.md'):\n",
    "    with open(filename) as f:\n",
    "        s = f.read()\n",
    "    with open(filename, 'w') as f:\n",
    "        for a in re.findall(r'!\\[.*?\\]\\(.+?\\)', s):\n",
    "            b = unescape(unquote(a))\n",
    "            b = b.replace(' ', '')\n",
    "            b = b.replace('.gitbook/assets', 'imgs')\n",
    "            s = s.replace(a, b)\n",
    "        f.write(s)"
   ]
  },
  {
   "cell_type": "code",
   "execution_count": 3,
   "metadata": {},
   "outputs": [
    {
     "name": "stdout",
     "output_type": "stream",
     "text": [
      "mkdir: imgs: File exists\r\n"
     ]
    }
   ],
   "source": [
    "!mkdir imgs"
   ]
  },
  {
   "cell_type": "code",
   "execution_count": 4,
   "metadata": {},
   "outputs": [
    {
     "name": "stdout",
     "output_type": "stream",
     "text": [
      ".gitbook/assets/image (26).png imgs/image(26).png 0\n",
      ".gitbook/assets/image (5).png imgs/image(5).png 0\n",
      ".gitbook/assets/image (30).png imgs/image(30).png 0\n",
      ".gitbook/assets/image (47).png imgs/image(47).png 0\n",
      ".gitbook/assets/image (10).png imgs/image(10).png 0\n",
      ".gitbook/assets/image (51).png imgs/image(51).png 0\n",
      ".gitbook/assets/image (9).png imgs/image(9).png 0\n",
      ".gitbook/assets/image (8).png imgs/image(8).png 0\n",
      ".gitbook/assets/image (50).png imgs/image(50).png 0\n",
      ".gitbook/assets/image (11).png imgs/image(11).png 0\n",
      ".gitbook/assets/image (46).png imgs/image(46).png 0\n",
      ".gitbook/assets/image (31).png imgs/image(31).png 0\n",
      ".gitbook/assets/image (27).png imgs/image(27).png 0\n",
      ".gitbook/assets/image (4).png imgs/image(4).png 0\n",
      ".gitbook/assets/ping-mu-kuai-zhao-20190710-00.22.56.png imgs/ping-mu-kuai-zhao-20190710-00.22.56.png 0\n",
      ".gitbook/assets/image (41).png imgs/image(41).png 0\n",
      ".gitbook/assets/image (16).png imgs/image(16).png 0\n",
      ".gitbook/assets/image (57).png imgs/image(57).png 0\n",
      ".gitbook/assets/image (20).png imgs/image(20).png 0\n",
      ".gitbook/assets/image (3).png imgs/image(3).png 0\n",
      ".gitbook/assets/image (36).png imgs/image(36).png 0\n",
      ".gitbook/assets/image (37).png imgs/image(37).png 0\n",
      ".gitbook/assets/image (21).png imgs/image(21).png 0\n",
      ".gitbook/assets/image (2).png imgs/image(2).png 0\n",
      ".gitbook/assets/image (56).png imgs/image(56).png 0\n",
      ".gitbook/assets/image (17).png imgs/image(17).png 0\n",
      ".gitbook/assets/image (40).png imgs/image(40).png 0\n",
      ".gitbook/assets/image (38).png imgs/image(38).png 0\n",
      ".gitbook/assets/image (55).png imgs/image(55).png 0\n",
      ".gitbook/assets/image (14).png imgs/image(14).png 0\n",
      ".gitbook/assets/image (43).png imgs/image(43).png 0\n",
      ".gitbook/assets/image (34).png imgs/image(34).png 0\n",
      ".gitbook/assets/image (1).png imgs/image(1).png 0\n",
      ".gitbook/assets/image (22).png imgs/image(22).png 0\n",
      ".gitbook/assets/image (59).png imgs/image(59).png 0\n",
      ".gitbook/assets/image (18).png imgs/image(18).png 0\n",
      ".gitbook/assets/image (19).png imgs/image(19).png 0\n",
      ".gitbook/assets/image (58).png imgs/image(58).png 0\n",
      ".gitbook/assets/image (23).png imgs/image(23).png 0\n",
      ".gitbook/assets/image (35).png imgs/image(35).png 0\n",
      ".gitbook/assets/image (42).png imgs/image(42).png 0\n",
      ".gitbook/assets/image (15).png imgs/image(15).png 0\n",
      ".gitbook/assets/image (54).png imgs/image(54).png 0\n",
      ".gitbook/assets/image (39).png imgs/image(39).png 0\n",
      ".gitbook/assets/image (32).png imgs/image(32).png 0\n",
      ".gitbook/assets/image (7).png imgs/image(7).png 0\n",
      ".gitbook/assets/image (24).png imgs/image(24).png 0\n",
      ".gitbook/assets/image (49).png imgs/image(49).png 0\n",
      ".gitbook/assets/image (28).png imgs/image(28).png 0\n",
      ".gitbook/assets/image (53).png imgs/image(53).png 0\n",
      ".gitbook/assets/image (12).png imgs/image(12).png 0\n",
      ".gitbook/assets/image (45).png imgs/image(45).png 0\n",
      ".gitbook/assets/ping-mu-kuai-zhao-20190613-01.00.31.png imgs/ping-mu-kuai-zhao-20190613-01.00.31.png 0\n",
      ".gitbook/assets/image (44).png imgs/image(44).png 0\n",
      ".gitbook/assets/image (13).png imgs/image(13).png 0\n",
      ".gitbook/assets/image (52).png imgs/image(52).png 0\n",
      ".gitbook/assets/image (29).png imgs/image(29).png 0\n",
      ".gitbook/assets/image (48).png imgs/image(48).png 0\n",
      ".gitbook/assets/image.png imgs/image.png 0\n",
      ".gitbook/assets/image (6).png imgs/image(6).png 0\n",
      ".gitbook/assets/image (25).png imgs/image(25).png 0\n",
      ".gitbook/assets/image (33).png imgs/image(33).png 0\n"
     ]
    }
   ],
   "source": [
    "for filename in glob('.gitbook/assets/*'):\n",
    "    b = filename\n",
    "    b = b.replace(' ', '')\n",
    "    b = b.replace('.gitbook/assets', 'imgs')\n",
    "    r = os.system(f'git mv \"{filename}\" \"{b}\"')\n",
    "    print(filename, b, r)"
   ]
  },
  {
   "cell_type": "code",
   "execution_count": null,
   "metadata": {},
   "outputs": [],
   "source": []
  }
 ],
 "metadata": {
  "kernelspec": {
   "display_name": "Python 3",
   "language": "python",
   "name": "python3"
  },
  "language_info": {
   "codemirror_mode": {
    "name": "ipython",
    "version": 3
   },
   "file_extension": ".py",
   "mimetype": "text/x-python",
   "name": "python",
   "nbconvert_exporter": "python",
   "pygments_lexer": "ipython3",
   "version": "3.7.3"
  }
 },
 "nbformat": 4,
 "nbformat_minor": 2
}
